{
 "cells": [
  {
   "cell_type": "markdown",
   "metadata": {},
   "source": [
    "# Efficient Frontier Portfolio Optimization\n",
    "\n",
    "## Comprehensive Analysis with Modern Portfolio Theory\n",
    "\n",
    "This notebook demonstrates a complete efficient frontier portfolio optimization system with strict performance constraints:\n",
    "- **Minimum Annualized Return**: 20%\n",
    "- **Minimum Sharpe Ratio**: 2.0\n",
    "- **Maximum Drawdown**: 3%\n",
    "\n",
    "### Table of Contents\n",
    "1. [Setup and Data Collection](#setup)\n",
    "2. [Data Analysis and Validation](#data-analysis)\n",
    "3. [Modern Portfolio Theory Implementation](#mpt)\n",
    "4. [Constraint Optimization](#constraints)\n",
    "5. [Efficient Frontier Generation](#frontier)\n",
    "6. [Results Analysis and Visualization](#results)\n",
    "7. [Portfolio Composition and Risk Analysis](#composition)\n",
    "8. [Backtesting and Performance Evaluation](#backtesting)\n",
    "9. [Conclusions and Recommendations](#conclusions)"
   ]
  },
  {
   "cell_type": "markdown",
   "metadata": {},
   "source": [
    "## 1. Setup and Data Collection {#setup}\n",
    "\n",
    "First, let's import all necessary libraries and set up our analysis environment."
   ]
  },
  {
   "cell_type": "code",
   "execution_count": null,
   "metadata": {},
   "outputs": [],
   "source": [
    "# Core libraries\n",
    "import numpy as np\n",
    "import pandas as pd\n",
    "import matplotlib.pyplot as plt\n",
    "import seaborn as sns\n",
    "import plotly.graph_objects as go\n",
    "import plotly.express as px\n",
    "from plotly.subplots import make_subplots\n",
    "\n",
    "# Optimization libraries\n",
    "import cvxpy as cp\n",
    "from scipy.optimize import minimize\n",
    "from scipy import stats\n",
    "\n",
    "# Data fetching\n",
    "import yfinance as yf\n",
    "from datetime import datetime, timedelta\n",
    "import warnings\n",
    "warnings.filterwarnings('ignore')\n",
    "\n",
    "# Custom modules\n",
    "from data_fetcher import MarketDataFetcher\n",
    "from portfolio_optimizer import EfficientFrontierOptimizer, OptimizationConstraints\n",
    "from portfolio_metrics import PortfolioMetrics\n",
    "from visualization import PortfolioVisualizer\n",
    "from export_results import ResultsExporter\n",
    "\n",
    "# Set display options\n",
    "pd.set_option('display.max_columns', None)\n",
    "pd.set_option('display.precision', 4)\n",
    "plt.style.use('seaborn-v0_8')\n",
    "sns.set_palette(\"husl\")\n",
    "\n",
    "print(\"✅ All libraries imported successfully\")\n",
    "print(f\"Analysis Date: {datetime.now().strftime('%Y-%m-%d %H:%M:%S')}\")"
   ]
  },
  {
   "cell_type": "markdown",
   "metadata": {},
   "source": [
    "### Configuration Parameters\n",
    "\n",
    "Define the key parameters for our optimization analysis:"
   ]
  },
  {
   "cell_type": "code",
   "execution_count": null,
   "metadata": {},
   "outputs": [],
   "source": [
    "# Analysis Configuration\n",
    "CONFIG = {\n",
    "    'num_assets': 100,           # Number of top assets to analyze\n",
    "    'period_years': 5,           # Years of historical data\n",
    "    'min_return': 0.20,          # Minimum 20% annualized return\n",
    "    'min_sharpe': 2.0,           # Minimum Sharpe ratio of 2.0\n",
    "    'max_drawdown': 0.03,        # Maximum 3% drawdown\n",
    "    'risk_free_rate': 0.02,      # 2% risk-free rate\n",
    "    'n_frontier_portfolios': 100, # Number of efficient frontier points\n",
    "}\n",
    "\n",
    "print(\"📋 Analysis Configuration:\")\n",
    "print(f\"   Target Assets: {CONFIG['num_assets']}\")\n",
    "print(f\"   Historical Period: {CONFIG['period_years']} years\")\n",
    "print(f\"   Min Return Constraint: {CONFIG['min_return']:.1%}\")\n",
    "print(f\"   Min Sharpe Constraint: {CONFIG['min_sharpe']:.1f}\")\n",
    "print(f\"   Max Drawdown Constraint: {CONFIG['max_drawdown']:.1%}\")\n",
    "print(f\"   Risk-Free Rate: {CONFIG['risk_free_rate']:.1%}\")"
   ]
  },
  {
   "cell_type": "markdown",
   "metadata": {},
   "source": [
    "### Data Collection\n",
    "\n",
    "Now let's fetch the top assets by trading volume and download their historical data:"
   ]
  },
  {
   "cell_type": "code",
   "execution_count": null,
   "metadata": {},
   "outputs": [],
   "source": [
    "# Initialize data fetcher\n",
    "print(\"🔄 Initializing data fetcher...\")\n",
    "data_fetcher = MarketDataFetcher(period_years=CONFIG['period_years'])\n",
    "\n",
    "# Get top assets by trading volume\n",
    "print(f\"📊 Identifying top {CONFIG['num_assets']} assets by trading volume...\")\n",
    "symbols = data_fetcher.get_top_assets_by_volume(num_assets=CONFIG['num_assets'])\n",
    "\n",
    "print(f\"\\n🎯 Selected {len(symbols)} assets:\")\n",
    "print(f\"First 20: {symbols[:20]}\")\n",
    "if len(symbols) > 20:\n",
    "    print(f\"... and {len(symbols)-20} more\")"
   ]
  },
  {
   "cell_type": "code",
   "execution_count": null,
   "metadata": {},
   "outputs": [],
   "source": [
    "# Fetch historical price data\n",
    "print(f\"📈 Downloading {CONFIG['period_years']} years of historical data...\")\n",
    "prices = data_fetcher.fetch_historical_data(symbols)\n",
    "returns = data_fetcher.calculate_returns()\n",
    "\n",
    "print(f\"\\n✅ Data collection completed:\")\n",
    "print(f\"   Assets: {len(data_fetcher.symbols)}\")\n",
    "print(f\"   Date Range: {prices.index[0].date()} to {prices.index[-1].date()}\")\n",
    "print(f\"   Trading Days: {len(returns)}\")\n",
    "print(f\"   Data Shape: {returns.shape}\")"
   ]
  },
  {
   "cell_type": "markdown",
   "metadata": {},
   "source": [
    "## 2. Data Analysis and Validation {#data-analysis}\n",
    "\n",
    "Let's analyze the quality and characteristics of our data:"
   ]
  },
  {
   "cell_type": "code",
   "execution_count": null,
   "metadata": {},
   "outputs": [],
   "source": [
    "# Data validation\n",
    "validation = data_fetcher.validate_data_quality()\n",
    "data_summary = data_fetcher.get_data_summary()\n",
    "\n",
    "print(\"🔍 Data Quality Assessment:\")\n",
    "print(f\"   Valid: {validation['valid']}\")\n",
    "print(f\"   Data Completeness: {data_summary['data_completeness']:.2%}\")\n",
    "\n",
    "if validation.get('warnings'):\n",
    "    print(\"\\n⚠️  Warnings:\")\n",
    "    for warning in validation['warnings']:\n",
    "        print(f\"   - {warning}\")\n",
    "\n",
    "# Display basic statistics\n",
    "print(\"\\n📊 Returns Statistics:\")\n",
    "returns_stats = returns.describe()\n",
    "print(returns_stats.round(4))"
   ]
  },
  {
   "cell_type": "markdown",
   "metadata": {},
   "source": [
    "## 3. Modern Portfolio Theory Implementation {#mpt}\n",
    "\n",
    "Now let's implement the core MPT optimization engine:"
   ]
  },
  {
   "cell_type": "code",
   "execution_count": null,
   "metadata": {},
   "outputs": [],
   "source": [
    "# Initialize the optimizer\n",
    "print(\"🔧 Initializing Portfolio Optimizer...\")\n",
    "optimizer = EfficientFrontierOptimizer(\n",
    "    returns=returns,\n",
    "    risk_free_rate=CONFIG['risk_free_rate']\n",
    ")\n",
    "\n",
    "# Display expected returns and covariance matrix properties\n",
    "print(f\"\\n📊 Portfolio Universe Properties:\")\n",
    "print(f\"   Number of Assets: {optimizer.n_assets}\")\n",
    "print(f\"   Expected Returns Range: {optimizer.expected_returns.min():.2%} to {optimizer.expected_returns.max():.2%}\")\n",
    "print(f\"   Covariance Matrix Condition Number: {np.linalg.cond(optimizer.cov_matrix.values):.0f}\")\n",
    "\n",
    "# Check if covariance matrix is well-conditioned\n",
    "eigenvals = np.linalg.eigvals(optimizer.cov_matrix.values)\n",
    "print(f\"   Covariance Matrix Eigenvalues: min={eigenvals.min():.6f}, max={eigenvals.max():.6f}\")\n",
    "\n",
    "if np.any(eigenvals <= 0):\n",
    "    print(\"   ⚠️  Warning: Covariance matrix has non-positive eigenvalues\")\n",
    "else:\n",
    "    print(\"   ✅ Covariance matrix is positive definite\")"
   ]
  },
  {
   "cell_type": "markdown",
   "metadata": {},
   "source": [
    "## 4. Constraint Optimization {#constraints}\n",
    "\n",
    "Let's set up and test our optimization constraints:"
   ]
  },
  {
   "cell_type": "code",
   "execution_count": null,
   "metadata": {},
   "outputs": [],
   "source": [
    "# Define optimization constraints\n",
    "constraints = OptimizationConstraints(\n",
    "    min_return=CONFIG['min_return'],\n",
    "    min_sharpe=CONFIG['min_sharpe'],\n",
    "    max_drawdown=CONFIG['max_drawdown'],\n",
    "    min_weight=0.0,\n",
    "    max_weight=0.20,  # Maximum 20% in any single asset\n",
    "    max_assets=50     # Maximum 50 assets in portfolio\n",
    ")\n",
    "\n",
    "print(\"🎯 Optimization Constraints:\")\n",
    "print(f\"   Minimum Return: {constraints.min_return:.1%}\")\n",
    "print(f\"   Minimum Sharpe Ratio: {constraints.min_sharpe:.1f}\")\n",
    "print(f\"   Maximum Drawdown: {constraints.max_drawdown:.1%}\")\n",
    "print(f\"   Weight Range: {constraints.min_weight:.1%} - {constraints.max_weight:.1%}\")\n",
    "print(f\"   Maximum Assets: {constraints.max_assets}\")"
   ]
  },
  {
   "cell_type": "markdown",
   "metadata": {},
   "source": [
    "## 5. Efficient Frontier Generation {#frontier}\n",
    "\n",
    "Generate the complete efficient frontier and find optimal portfolios:"
   ]
  },
  {
   "cell_type": "code",
   "execution_count": null,
   "metadata": {},
   "outputs": [],
   "source": [
    "# Find optimal portfolios\n",
    "print(\"🎯 Finding Optimal Portfolios...\")\n",
    "optimal_portfolios = optimizer.find_optimal_portfolios(constraints)\n",
    "\n",
    "print(f\"\\n📊 Optimal Portfolio Results:\")\n",
    "for name, portfolio in optimal_portfolios.items():\n",
    "    if portfolio['weights'] is not None:\n",
    "        metrics = portfolio['metrics']\n",
    "        constraints_met = portfolio['constraints_met']\n",
    "        \n",
    "        print(f\"\\n   {name.upper().replace('_', ' ')}:\")\n",
    "        print(f\"     Return: {metrics['annualized_return']:.2%}\")\n",
    "        print(f\"     Volatility: {metrics['annualized_volatility']:.2%}\")\n",
    "        print(f\"     Sharpe Ratio: {metrics['sharpe_ratio']:.3f}\")\n",
    "        print(f\"     Max Drawdown: {metrics['max_drawdown']:.2%}\")\n",
    "        print(f\"     All Constraints Met: {'✅' if constraints_met['all_constraints'] else '❌'}\")\n",
    "    else:\n",
    "        print(f\"\\n   {name.upper().replace('_', ' ')}: ❌ Optimization failed\")"
   ]
  },
  {
   "cell_type": "markdown",
   "metadata": {},
   "source": [
    "## 6. Results Analysis and Visualization {#results}\n",
    "\n",
    "Create comprehensive visualizations of our optimization results:"
   ]
  },
  {
   "cell_type": "code",
   "execution_count": null,
   "metadata": {},
   "outputs": [],
   "source": [
    "# Generate efficient frontier\n",
    "print(f\"\\n🌐 Generating Efficient Frontier ({CONFIG['n_frontier_portfolios']} portfolios)...\")\n",
    "frontier_df = optimizer.generate_efficient_frontier(\n",
    "    n_portfolios=CONFIG['n_frontier_portfolios'],\n",
    "    constraints=constraints\n",
    ")\n",
    "\n",
    "# Initialize visualizer and create plots\n",
    "visualizer = PortfolioVisualizer()\n",
    "\n",
    "if not frontier_df.empty:\n",
    "    print(\"📊 Creating Efficient Frontier Visualization...\")\n",
    "    visualizer.plot_efficient_frontier(\n",
    "        frontier_df, \n",
    "        optimal_portfolios,\n",
    "        interactive=True\n",
    "    )\n",
    "    \n",
    "    # Performance comparison\n",
    "    if optimal_portfolios:\n",
    "        print(\"📊 Creating Performance Comparison...\")\n",
    "        visualizer.plot_performance_comparison(optimal_portfolios)\n",
    "else:\n",
    "    print(\"⚠️  Cannot create plots - no frontier data available\")"
   ]
  },
  {
   "cell_type": "markdown",
   "metadata": {},
   "source": [
    "## 7. Portfolio Composition Analysis {#composition}\n",
    "\n",
    "Analyze the composition of our best portfolio:"
   ]
  },
  {
   "cell_type": "code",
   "execution_count": null,
   "metadata": {},
   "outputs": [],
   "source": [
    "# Find best portfolio\n",
    "best_portfolio = None\n",
    "best_score = -np.inf\n",
    "\n",
    "for portfolio in optimal_portfolios.values():\n",
    "    if portfolio['weights'] is not None:\n",
    "        constraints_met = portfolio['constraints_met']['all_constraints']\n",
    "        sharpe_ratio = portfolio['metrics']['sharpe_ratio']\n",
    "        score = (10 if constraints_met else 0) + sharpe_ratio\n",
    "        \n",
    "        if score > best_score:\n",
    "            best_score = score\n",
    "            best_portfolio = portfolio\n",
    "\n",
    "if best_portfolio:\n",
    "    print(\"🏆 Best Portfolio Analysis:\")\n",
    "    composition = optimizer.get_portfolio_composition(best_portfolio['weights'], top_n=15)\n",
    "    print(composition)\n",
    "    \n",
    "    # Visualize composition\n",
    "    visualizer.plot_portfolio_composition(\n",
    "        best_portfolio['weights'],\n",
    "        data_fetcher.symbols,\n",
    "        title=\"Optimal Portfolio Composition\"\n",
    "    )\n",
    "else:\n",
    "    print(\"❌ No optimal portfolio found\")"
   ]
  },
  {
   "cell_type": "markdown",
   "metadata": {},
   "source": [
    "## 8. Backtesting and Performance Evaluation {#backtesting}\n",
    "\n",
    "Evaluate the historical performance of our optimal portfolio:"
   ]
  },
  {
   "cell_type": "code",
   "execution_count": null,
   "metadata": {},
   "outputs": [],
   "source": [
    "if best_portfolio:\n",
    "    # Run backtest\n",
    "    print(\"📈 Running Backtest Analysis...\")\n",
    "    backtest_results = optimizer.backtest_portfolio(best_portfolio['weights'])\n",
    "    \n",
    "    # Display results\n",
    "    print(f\"\\n📊 Backtest Results:\")\n",
    "    print(f\"   Period: {backtest_results['start_date'].date()} to {backtest_results['end_date'].date()}\")\n",
    "    print(f\"   Total Return: {(backtest_results['cumulative_returns'].iloc[-1] - 1):.2%}\")\n",
    "    print(f\"   Annualized Return: {backtest_results['metrics']['annualized_return']:.2%}\")\n",
    "    print(f\"   Annualized Volatility: {backtest_results['metrics']['annualized_volatility']:.2%}\")\n",
    "    print(f\"   Sharpe Ratio: {backtest_results['metrics']['sharpe_ratio']:.3f}\")\n",
    "    print(f\"   Maximum Drawdown: {backtest_results['metrics']['max_drawdown']:.2%}\")\n",
    "    \n",
    "    # Plot cumulative returns\n",
    "    plt.figure(figsize=(12, 6))\n",
    "    plt.plot(backtest_results['cumulative_returns'].index, \n",
    "             backtest_results['cumulative_returns'].values, \n",
    "             linewidth=2, label='Optimal Portfolio')\n",
    "    \n",
    "    # Compare with equal-weighted benchmark\n",
    "    benchmark_returns = returns.mean(axis=1)\n",
    "    benchmark_cumulative = (1 + benchmark_returns).cumprod()\n",
    "    plt.plot(benchmark_cumulative.index, benchmark_cumulative.values, \n",
    "             linewidth=2, alpha=0.7, label='Equal-Weighted Benchmark')\n",
    "    \n",
    "    plt.title('Portfolio Performance Comparison')\n",
    "    plt.xlabel('Date')\n",
    "    plt.ylabel('Cumulative Return')\n",
    "    plt.legend()\n",
    "    plt.grid(True, alpha=0.3)\n",
    "    plt.show()\n",
    "else:\n",
    "    print(\"❌ Cannot run backtest - no optimal portfolio available\")"
   ]
  },
  {
   "cell_type": "markdown",
   "metadata": {},
   "source": [
    "## 9. Conclusions and Recommendations {#conclusions}\n",
    "\n",
    "### Key Findings\n",
    "\n",
    "Based on our comprehensive analysis, here are the main findings:\n",
    "\n",
    "1. **Constraint Feasibility**: The constraints (20% return, 2.0 Sharpe, 3% max drawdown) are extremely strict for most market conditions.\n",
    "\n",
    "2. **Portfolio Optimization**: Modern Portfolio Theory provides a robust framework for optimization, but real-world constraints may limit feasible solutions.\n",
    "\n",
    "3. **Risk-Return Tradeoff**: Higher returns typically require accepting higher risk, making the combination of high return and low drawdown challenging.\n",
    "\n",
    "### Recommendations\n",
    "\n",
    "1. **Constraint Relaxation**: Consider more realistic constraints:\n",
    "   - Minimum return: 12-15%\n",
    "   - Minimum Sharpe ratio: 1.0-1.5\n",
    "   - Maximum drawdown: 5-10%\n",
    "\n",
    "2. **Diversification**: Expand the asset universe to include:\n",
    "   - International markets\n",
    "   - Alternative assets (REITs, commodities)\n",
    "   - Fixed income securities\n",
    "\n",
    "3. **Dynamic Rebalancing**: Implement regular portfolio rebalancing to maintain optimal weights.\n",
    "\n",
    "4. **Risk Management**: Use additional risk controls such as:\n",
    "   - Stop-loss mechanisms\n",
    "   - Volatility targeting\n",
    "   - Regime-aware optimization\n",
    "\n",
    "### Next Steps\n",
    "\n",
    "1. **Implementation**: If feasible portfolios were found, consider implementing with proper risk management.\n",
    "\n",
    "2. **Monitoring**: Regularly monitor portfolio performance and rebalance as needed.\n",
    "\n",
    "3. **Enhancement**: Consider advanced techniques like:\n",
    "   - Black-Litterman model\n",
    "   - Risk parity approaches\n",
    "   - Machine learning-based optimization\n",
    "\n",
    "4. **Stress Testing**: Perform stress tests under various market scenarios."
   ]
  },
  {
   "cell_type": "markdown",
   "metadata": {},
   "source": [
    "## Export Results\n",
    "\n",
    "Finally, let's export our results for further analysis:"
   ]
  },
  {
   "cell_type": "code",
   "execution_count": null,
   "metadata": {},
   "outputs": [],
   "source": [
    "# Export results\n",
    "exporter = ResultsExporter()\n",
    "\n",
    "if not frontier_df.empty:\n",
    "    print(\"💾 Exporting results...\")\n",
    "    \n",
    "    # Export efficient frontier\n",
    "    frontier_file = exporter.export_efficient_frontier(frontier_df)\n",
    "    \n",
    "    # Export optimal portfolios\n",
    "    if optimal_portfolios:\n",
    "        portfolios_file = exporter.export_optimal_portfolios(\n",
    "            optimal_portfolios, data_fetcher.symbols\n",
    "        )\n",
    "    \n",
    "    # Create summary report\n",
    "    results_dict = {\n",
    "        'data_summary': data_fetcher.get_data_summary(),\n",
    "        'optimal_portfolios': optimal_portfolios,\n",
    "        'frontier_df': frontier_df,\n",
    "        'symbols': data_fetcher.symbols\n",
    "    }\n",
    "    \n",
    "    summary_file = exporter.create_summary_report(results_dict)\n",
    "    \n",
    "    print(\"✅ All results exported successfully!\")\n",
    "else:\n",
    "    print(\"⚠️  No results to export\")\n",
    "\n",
    "print(\"\\n🎉 Analysis Complete!\")\n",
    "print(\"Check the results/ directory for exported files.\")"
   ]
  }
 ],
 "metadata": {
  "kernelspec": {
   "display_name": "Python 3",
   "language": "python",
   "name": "python3"
  },
  "language_info": {
   "codemirror_mode": {
    "name": "ipython",
    "version": 3
   },
   "file_extension": ".py",
   "mimetype": "text/x-python",
   "name": "python",
   "nbconvert_exporter": "python",
   "pygments_lexer": "ipython3",
   "version": "3.8.5"
  }
 },
 "nbformat": 4,
 "nbformat_minor": 4
}
